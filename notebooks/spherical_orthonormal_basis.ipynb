{
 "cells": [
  {
   "cell_type": "code",
   "execution_count": 1,
   "metadata": {},
   "outputs": [],
   "source": [
    "import os\n",
    "os.environ[\"CUDA_VISIBLE_DEVICES\"]=\"\"\n",
    "import torch\n",
    "from torch import nn\n",
    "import matplotlib.pyplot as plt"
   ]
  },
  {
   "cell_type": "code",
   "execution_count": 49,
   "metadata": {},
   "outputs": [],
   "source": [
    "class SphericalBessel(nn.Module):\n",
    "    def __init__(self, k: int = 1, l: int = 0):\n",
    "        super().__init__()\n",
    "        self.k = k\n",
    "        self.l = l\n",
    "\n",
    "    def forward(self, x):\n",
    "        jnm1 = torch.sinc(self.k*x/torch.pi)\n",
    "        jn = (torch.sinc(self.k*x/torch.pi) - torch.cos(self.k*x))/(self.k*x)\n",
    "        if self.l == 0:\n",
    "            return torch.sqrt(torch.Tensor([2.0])/torch.pi)*self.k*jnm1\n",
    "        if self.l == 1:\n",
    "            return torch.sqrt(torch.Tensor([2.0])/torch.pi)*self.k*jn\n",
    "        else:\n",
    "            n = 1\n",
    "            jnp1 = (2*n+1)*jn/(self.k*x) - jnm1 \n",
    "            for n in torch.arange(2, self.l):\n",
    "                print(n)\n",
    "                jnm1 = jn\n",
    "                jn = jnp1\n",
    "                jnp1 = (2*n+1)*jn/(self.k*x) - jnm1\n",
    "            return torch.sqrt(torch.Tensor([2.0])/torch.pi)*self.k*jnp1"
   ]
  },
  {
   "cell_type": "code",
   "execution_count": 194,
   "metadata": {},
   "outputs": [],
   "source": [
    "x = torch.linspace(0,3,1000)"
   ]
  },
  {
   "cell_type": "code",
   "execution_count": 197,
   "metadata": {},
   "outputs": [],
   "source": [
    "class SphericalBessel(nn.Module):\n",
    "    def __init__(self, k: int = 1, l: int = 0):\n",
    "        super().__init__()\n",
    "        self.k = k\n",
    "        self.l = l\n",
    "\n",
    "    def forward(self, x):\n",
    "        x = x*self.k\n",
    "        y = torch.zeros([self.l]+[s for s in x.shape], dtype=torch.float64)\n",
    "\n",
    "        lstart = self.l + int(torch.sqrt(torch.Tensor([10*self.l])))\n",
    "        j2 = torch.zeros_like(x)\n",
    "        j1 = torch.ones_like(x)\n",
    "\n",
    "        for i in range(lstart, 0, -1):\n",
    "            j0 = (2*i+1)/x * j1 - j2\n",
    "            # print(j0)\n",
    "            if i-1<self.l:\n",
    "                y[i-1,...] = j0\n",
    "            j2 = j1\n",
    "            j1 = j0\n",
    "\n",
    "        # print(y)\n",
    "        true_j0 = torch.sinc(x/torch.pi)\n",
    "        y = y * true_j0/y[0,...]\n",
    "        return y"
   ]
  },
  {
   "cell_type": "code",
   "execution_count": 202,
   "metadata": {},
   "outputs": [
    {
     "data": {
      "text/plain": [
       "[<matplotlib.lines.Line2D at 0x7f68e83c71f0>]"
      ]
     },
     "execution_count": 202,
     "metadata": {},
     "output_type": "execute_result"
    },
    {
     "data": {
      "image/png": "[encoded data removed]",
      "text/plain": [
       "<Figure size 640x480 with 1 Axes>"
      ]
     },
     "metadata": {},
     "output_type": "display_data"
    }
   ],
   "source": [
    "bessel = SphericalBessel(k=1, l=100)\n",
    "y = bessel(x)\n",
    "plt.plot(x, y.T)\n",
    "\n",
    "plt.plot([0,torch.max(x)],[0,0], ':k')"
   ]
  },
  {
   "cell_type": "code",
   "execution_count": 61,
   "metadata": {},
   "outputs": [],
   "source": [
    "import numpy as np\n",
    "def bessel_downward(l,x):\n",
    "    if abs(x)<1e-20:\n",
    "        res = np.zeros(l+1)\n",
    "        res[0]=1\n",
    "        return res\n",
    "    lstart = l + int(np.sqrt(10*l))\n",
    "    j2 = 0\n",
    "    j1 = 1\n",
    "    res = []\n",
    "    for i in range(lstart, 0, -1):\n",
    "        j0 = (2*i+1)/x * j1 - j2\n",
    "        if i-1<l: res.append(j0)\n",
    "        j2 = j1\n",
    "        j1 = j0\n",
    "    res.reverse()\n",
    "    true_j0 = np.sin(x)/x\n",
    "    res = np.array(res) * true_j0/res[0]\n",
    "    return res"
   ]
  },
  {
   "cell_type": "code",
   "execution_count": 69,
   "metadata": {},
   "outputs": [
    {
     "data": {
      "text/plain": [
       "array([8.41470985e-01, 3.01168679e-01, 6.20350520e-02, 9.00658112e-03,\n",
       "       1.01101581e-03, 9.25611586e-05, 7.15693631e-06, 4.79013420e-07,\n",
       "       2.82649880e-08, 1.49137650e-09])"
      ]
     },
     "execution_count": 69,
     "metadata": {},
     "output_type": "execute_result"
    }
   ],
   "source": [
    "bessel_downward(10,1)"
   ]
  },
  {
   "cell_type": "code",
   "execution_count": null,
   "metadata": {},
   "outputs": [],
   "source": []
  }
 ],
 "metadata": {
  "kernelspec": {
   "display_name": "sunerf",
   "language": "python",
   "name": "python3"
  },
  "language_info": {
   "codemirror_mode": {
    "name": "ipython",
    "version": 3
   },
   "file_extension": ".py",
   "mimetype": "text/x-python",
   "name": "python",
   "nbconvert_exporter": "python",
   "pygments_lexer": "ipython3",
   "version": "3.10.14"
  }
 },
 "nbformat": 4,
 "nbformat_minor": 2
}
