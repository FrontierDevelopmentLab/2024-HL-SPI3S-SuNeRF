{
 "cells": [
  {
   "cell_type": "code",
   "execution_count": null,
   "metadata": {},
   "outputs": [
    {
     "ename": "",
     "evalue": "",
     "output_type": "error",
     "traceback": [
      "\u001b[1;31mRunning cells with 'sunerf (Python 3.10.14)' requires the ipykernel package.\n",
      "\u001b[1;31mRun the following command to install 'ipykernel' into the Python environment. \n",
      "\u001b[1;31mCommand: 'conda install -n sunerf ipykernel --update-deps --force-reinstall'"
     ]
    }
   ],
   "source": [
    "from scipy.io import readsav\n",
    "import numpy as np"
   ]
  },
  {
   "cell_type": "code",
   "execution_count": null,
   "metadata": {},
   "outputs": [],
   "source": [
    "read_A = readsav('/home/christophschirninger/2024-HL-SPI3S-SuNeRF/sunerf/data/euvi_response/ahead_sra_001.geny')\n",
    "read_B = readsav('/home/christophschirninger/2024-HL-SPI3S-SuNeRF/sunerf/data/euvi_response/behind_sra_001.geny')"
   ]
  }
 ],
 "metadata": {
  "kernelspec": {
   "display_name": "sunerf",
   "language": "python",
   "name": "python3"
  },
  "language_info": {
   "name": "python",
   "version": "3.10.14"
  }
 },
 "nbformat": 4,
 "nbformat_minor": 2
}
